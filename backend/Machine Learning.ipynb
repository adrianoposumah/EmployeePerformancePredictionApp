{
  "cells": [
    {
      "cell_type": "code",
      "execution_count": null,
      "metadata": {
        "id": "87vbHK1y-at1"
      },
      "outputs": [],
      "source": [
        "import pandas as pd\n",
        "import seaborn as sns\n",
        "import matplotlib.pyplot as plt\n",
        "import MultiColumnLabelEncoder\n",
        "from sklearn.model_selection import train_test_split\n",
        "from sklearn.linear_model import LinearRegression\n",
        "from sklearn.metrics import mean_squared_error\n",
        "from sklearn.metrics import r2_score\n",
        "from sklearn.metrics import mean_absolute_error\n",
        "from sklearn.ensemble import RandomForestRegressor\n",
        "import xgboost as xgb\n",
        "import pickle\n",
        "import numpy as np\n",
        "import io\n",
        "import base64\n",
        "from datetime import datetime"
      ]
    },
    {
      "cell_type": "code",
      "execution_count": null,
      "metadata": {
        "id": "VBeoKR8G_7xa"
      },
      "outputs": [],
      "source": [
        "data=pd.read_csv('/content/garments_worker_productivity.csv')\n",
        "data.head()"
      ]
    },
    {
      "cell_type": "code",
      "execution_count": null,
      "metadata": {
        "id": "Ky-_5S7oBQgI"
      },
      "outputs": [],
      "source": [
        "corrMatrix=data.corr()\n",
        "fig, ax= plt.subplots(figsize=(15,15))\n",
        "sns.heatmap(corrMatrix, annot=True, linewidths=0.5, ax=ax)\n",
        "plt.show()"
      ]
    },
    {
      "cell_type": "code",
      "execution_count": null,
      "metadata": {
        "id": "aXIBHqMUBXSD"
      },
      "outputs": [],
      "source": [
        "data.describe()"
      ]
    },
    {
      "cell_type": "code",
      "execution_count": null,
      "metadata": {
        "id": "d0j5Q5ycBf6d"
      },
      "outputs": [],
      "source": [
        "data.shape"
      ]
    },
    {
      "cell_type": "code",
      "execution_count": null,
      "metadata": {
        "id": "O1mZSpMBBf1t"
      },
      "outputs": [],
      "source": [
        "data.info()"
      ]
    },
    {
      "cell_type": "code",
      "execution_count": null,
      "metadata": {
        "id": "xPR05KYPBzAC"
      },
      "outputs": [],
      "source": [
        "data.isnull().sum()"
      ]
    },
    {
      "cell_type": "code",
      "execution_count": null,
      "metadata": {
        "id": "nIYVQjQ0CASU"
      },
      "outputs": [],
      "source": [
        "data.drop(['wip'],axis=1,inplace=True)"
      ]
    },
    {
      "cell_type": "code",
      "execution_count": null,
      "metadata": {
        "id": "CSw1iAvYCRy6"
      },
      "outputs": [],
      "source": [
        "data['date']=pd.to_datetime(data['date'])\n",
        "data.date"
      ]
    },
    {
      "cell_type": "code",
      "execution_count": null,
      "metadata": {
        "id": "ZKHFFNlQCcM-"
      },
      "outputs": [],
      "source": [
        "data['month']=data['date'].dt.month\n",
        "data.drop(['date'],axis=1,inplace=True)\n",
        "data.month"
      ]
    },
    {
      "cell_type": "code",
      "execution_count": null,
      "metadata": {
        "id": "rxFCyb2nGyUw"
      },
      "outputs": [],
      "source": [
        "data['department'].value_counts()"
      ]
    },
    {
      "cell_type": "code",
      "execution_count": null,
      "metadata": {
        "id": "l8bvgZf4G5mq"
      },
      "outputs": [],
      "source": [
        "data['department']=data['department'].apply(lambda x: 'finishing' if x.replace(\" \",\"\") == 'finishing' else 'sweing')\n",
        "data['department'].value_counts()"
      ]
    },
    {
      "cell_type": "code",
      "execution_count": null,
      "metadata": {
        "id": "fkbeMxIpHgVy"
      },
      "outputs": [],
      "source": [
        "Mcle=MultiColumnLabelEncoder.MultiColumnLabelEncoder()\n",
        "data=Mcle.fit_transform(data)"
      ]
    },
    {
      "cell_type": "code",
      "execution_count": null,
      "metadata": {
        "id": "qzDCDJQ7H1ux"
      },
      "outputs": [],
      "source": [
        "x=data.drop(['actual_productivity'],axis=1)\n",
        "y=data['actual_productivity']\n",
        "X=x.to_numpy()\n",
        "X"
      ]
    },
    {
      "cell_type": "code",
      "execution_count": null,
      "metadata": {
        "id": "7b8JQs7GINpC"
      },
      "outputs": [],
      "source": [
        "# Split data into training and testing sets\n",
        "x_train, x_test, y_train, y_test = train_test_split(X, y, test_size=0.2, random_state=42)"
      ]
    },
    {
      "cell_type": "code",
      "execution_count": null,
      "metadata": {
        "id": "SG07Aa4uIbUj"
      },
      "outputs": [],
      "source": [
        "# Train Linear Regression model\n",
        "model_lr = LinearRegression()\n",
        "model_lr.fit(x_train, y_train)\n",
        "pred_test = model_lr.predict(x_test)\n",
        "print(\"test_MSE:\", mean_squared_error(y_test, pred_test))\n",
        "print(\"test_MAE:\", mean_absolute_error(y_test, pred_test))\n",
        "print(\"R2_Score:{}\".format(r2_score(y_test, pred_test)))"
      ]
    },
    {
      "cell_type": "code",
      "execution_count": null,
      "metadata": {
        "id": "2rachPSOJNJn"
      },
      "outputs": [],
      "source": [
        "# Train Random Forest Regressor\n",
        "model_rf = RandomForestRegressor(n_estimators=200, max_depth=5)\n",
        "model_rf.fit(x_train, y_train)\n",
        "pred = model_rf.predict(x_test)\n",
        "print(\"test_MSE:\", mean_squared_error(y_test, pred))\n",
        "print(\"test_MAE:\", mean_absolute_error(y_test, pred))\n",
        "print(\"R2_Score:{}\".format(r2_score(y_test, pred)))"
      ]
    },
    {
      "cell_type": "code",
      "execution_count": null,
      "metadata": {
        "id": "W0rohbTOJwLf"
      },
      "outputs": [],
      "source": [
        "# Train XGBoost model\n",
        "model_xgb = xgb.XGBRegressor(n_estimators=200, max_depth=5, learning_rate=0.1)\n",
        "model_xgb.fit(x_train, y_train)\n",
        "pred3 = model_xgb.predict(x_test)\n",
        "print(\"test_MSE:\", mean_squared_error(y_test, pred3))\n",
        "print(\"test_MAE:\", mean_absolute_error(y_test, pred3))\n",
        "print(\"R2_Score:{}\".format(r2_score(y_test, pred3)))"
      ]
    },
    {
      "cell_type": "code",
      "execution_count": null,
      "metadata": {},
      "outputs": [],
      "source": [
        "# Save models to pickle files\n",
        "with open('model_lr.pkl', 'wb') as f:\n",
        "    pickle.dump(model_lr, f)\n",
        "with open('model_rf.pkl', 'wb') as f:\n",
        "    pickle.dump(model_rf, f)\n",
        "with open('model_xgb.pkl', 'wb') as f:\n",
        "    pickle.dump(model_xgb, f)\n",
        "\n",
        "print(\"Models saved successfully!\")"
      ]
    },
    {
      "cell_type": "markdown",
      "metadata": {},
      "source": [
        "# REST API Implementation\n",
        "\n",
        "The machine learning models trained in this notebook are used in our Flask-based REST API. The API provides endpoints for both single predictions and batch processing of employee productivity data.\n",
        "\n",
        "## API Endpoints\n",
        "\n",
        "1. **Health Check**: `GET /health`\n",
        "2. **Single Prediction**: `POST /api/predict`\n",
        "3. **Batch Processing**: `POST /api/batch` and `GET /api/batch/{id}`\n",
        "4. **Metadata**: `GET /api/meta/departments` and `GET /api/meta/teams`"
      ]
    },
    {
      "cell_type": "code",
      "execution_count": null,
      "metadata": {},
      "outputs": [],
      "source": [
        "# Example function for making predictions\n",
        "def predict_productivity(input_data):\n",
        "    \"\"\"\n",
        "    Make a prediction using the saved model\n",
        "    \n",
        "    Args:\n",
        "        input_data (dict): Dictionary containing employee productivity features\n",
        "    \n",
        "    Returns:\n",
        "        dict: Prediction results including productivity value and category\n",
        "    \"\"\"\n",
        "    # Load the best model (Random Forest in this case)\n",
        "    with open('model_rf.pkl', 'rb') as f:\n",
        "        model = pickle.load(f)\n",
        "    \n",
        "    # Prepare input data\n",
        "    quarter = input_data.get('date').month // 3 + 1 if isinstance(input_data.get('date'), datetime) else 1\n",
        "    month = input_data.get('date').month if isinstance(input_data.get('date'), datetime) else 1\n",
        "    \n",
        "    # Map department to numeric value\n",
        "    department_map = {\"Sewing\": 1, \"Finishing\": 0}\n",
        "    department = department_map.get(input_data.get('department'), 1)\n",
        "    \n",
        "    # Map day of week (1=Monday, 7=Sunday)\n",
        "    day = input_data.get('date').weekday() + 1 if isinstance(input_data.get('date'), datetime) else 1\n",
        "    \n",
        "    # Extract team number\n",
        "    team = int(input_data.get('team').split(\" \")[1]) if isinstance(input_data.get('team'), str) else 1\n",
        "    \n",
        "    # Map incentive level\n",
        "    incentive_map = {\"None\": 0, \"Low\": 1, \"Standard\": 2, \"High\": 3}\n",
        "    incentive = incentive_map.get(input_data.get('incentive_level'), 2)\n",
        "    \n",
        "    # Prepare model input\n",
        "    model_input = [\n",
        "        quarter,\n",
        "        department,\n",
        "        day,\n",
        "        team,\n",
        "        float(input_data.get('targeted_productivity')),\n",
        "        float(input_data.get('smv_minutes')),\n",
        "        int(input_data.get('over_time_hours')),\n",
        "        incentive,\n",
        "        float(input_data.get('idle_time_minutes')),\n",
        "        int(input_data.get('idle_men_count')),\n",
        "        int(input_data.get('style_change_count')),\n",
        "        int(input_data.get('worker_count')),\n",
        "        month\n",
        "    ]\n",
        "    \n",
        "    # Make prediction\n",
        "    prediction = model.predict([model_input])[0]\n",
        "    \n",
        "    # Get category\n",
        "    if prediction <= 0.3:\n",
        "        category = \"Below Average Productivity\"\n",
        "    elif 0.3 < prediction <= 0.8:\n",
        "        category = \"Medium Productivity\"\n",
        "    else:\n",
        "        category = \"High Productivity\"\n",
        "    \n",
        "    return {\n",
        "        \"actual_productivity\": float(prediction),\n",
        "        \"category\": category\n",
        "    }"
      ]
    },
    {
      "cell_type": "code",
      "execution_count": null,
      "metadata": {},
      "outputs": [],
      "source": [
        "# Example API request\n",
        "sample_input = {\n",
        "    \"date\": datetime(2023, 5, 15),\n",
        "    \"department\": \"Sewing\",\n",
        "    \"team\": \"Team 3\",\n",
        "    \"targeted_productivity\": 75,\n",
        "    \"smv_minutes\": 2.5,\n",
        "    \"over_time_hours\": 1,\n",
        "    \"incentive_level\": \"Standard\",\n",
        "    \"idle_time_minutes\": 30,\n",
        "    \"idle_men_count\": 1,\n",
        "    \"style_change_count\": 2,\n",
        "    \"worker_count\": 50\n",
        "}\n",
        "\n",
        "prediction_result = predict_productivity(sample_input)\n",
        "print(prediction_result)"
      ]
    },
    {
      "cell_type": "code",
      "execution_count": null,
      "metadata": {},
      "outputs": [],
      "source": [
        "# Generate example visualization\n",
        "def generate_sample_visualization(data):\n",
        "    fig, axes = plt.subplots(2, 2, figsize=(15, 12))\n",
        "    \n",
        "    # Extract key metrics\n",
        "    targeted_productivity = data.get(\"targeted_productivity\", 0)\n",
        "    smv_minutes = data.get(\"smv_minutes\", 0)\n",
        "    over_time_hours = data.get(\"over_time_hours\", 0)\n",
        "    idle_time_minutes = data.get(\"idle_time_minutes\", 0)\n",
        "    \n",
        "    categories = ['Targeted Productivity', 'SMV', 'Over Time', 'Idle Time']\n",
        "    values = [targeted_productivity, smv_minutes, over_time_hours, idle_time_minutes]\n",
        "    \n",
        "    # Bar chart (top left)\n",
        "    axes[0, 0].bar(categories, values, color=['blue', 'green', 'red', 'orange'])\n",
        "    axes[0, 0].set_xlabel('Parameters')\n",
        "    axes[0, 0].set_ylabel('Values')\n",
        "    axes[0, 0].set_title('Employee Productivity Parameters')\n",
        "    \n",
        "    # Scatter plot (top right)\n",
        "    axes[0, 1].scatter([1, 2, 3, 4], values, s=100)\n",
        "    axes[0, 1].set_xticks([1, 2, 3, 4])\n",
        "    axes[0, 1].set_xticklabels(categories)\n",
        "    axes[0, 1].set_xlabel('Parameters')\n",
        "    axes[0, 1].set_ylabel('Values')\n",
        "    axes[0, 1].set_title('Scatter Plot of Parameters')\n",
        "    \n",
        "    # Line plot (bottom left)\n",
        "    axes[1, 0].plot([1, 2, 3, 4], values, marker='o', linestyle='-', linewidth=2)\n",
        "    axes[1, 0].set_xticks([1, 2, 3, 4])\n",
        "    axes[1, 0].set_xticklabels(categories)\n",
        "    axes[1, 0].set_xlabel('Parameters')\n",
        "    axes[1, 0].set_ylabel('Values')\n",
        "    axes[1, 0].set_title('Line Plot of Parameters')\n",
        "    \n",
        "    # Pie chart (bottom right)\n",
        "    axes[1, 1].pie(values, labels=categories, autopct='%1.1f%%', startangle=90)\n",
        "    axes[1, 1].axis('equal')\n",
        "    axes[1, 1].set_title('Distribution of Parameters')\n",
        "    \n",
        "    plt.tight_layout()\n",
        "    plt.show()\n",
        "\n",
        "# Generate sample visualization\n",
        "generate_sample_visualization(sample_input)"
      ]
    },
    {
      "cell_type": "markdown",
      "metadata": {},
      "source": [
        "# Conclusion\n",
        "\n",
        "This notebook demonstrates:\n",
        "\n",
        "1. Data preprocessing and feature engineering for employee productivity prediction\n",
        "2. Training and evaluation of three machine learning models:\n",
        "   - Linear Regression\n",
        "   - Random Forest Regressor\n",
        "   - XGBoost Regressor\n",
        "3. Model saving for use in the REST API\n",
        "4. Example prediction code that mimics the API implementation\n",
        "\n",
        "The best performing model is used in our Flask-based REST API to provide productivity predictions to the frontend application."
      ]
    }
  ],
  "metadata": {
    "colab": {
      "provenance": []
    },
    "kernelspec": {
      "display_name": "Python 3",
      "name": "python3"
    },
    "language_info": {
      "name": "python"
    }
  },
  "nbformat": 4,
  "nbformat_minor": 0
}
